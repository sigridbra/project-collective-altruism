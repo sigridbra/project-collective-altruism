{
 "cells": [
  {
   "cell_type": "markdown",
   "metadata": {},
   "source": [
    "# Second iteration of model - dynamic network\n",
    "\n",
    "After some interactions a new link is formed between two random agents \n",
    "\n",
    "The first to be defined is a state space, here being set to be discrete values. \n",
    "Then the Agent class is defined to set an initial state and a method to \"consider\" it's state options and possibly changing it's state. "
   ]
  },
  {
   "cell_type": "code",
   "execution_count": 13,
   "metadata": {},
   "outputs": [],
   "source": [
    "states = [1, -1] #1 being cooperating, 0 being defecting\n",
    "import random\n",
    "\n",
    "class Agent:\n",
    "    def __init__(self, state):\n",
    "        self.state = state\n",
    "        self.interactionsReceived = 0\n",
    "        self.interactionsGiven = 0\n",
    "    \n",
    "    def consider(self, neighbour, neighboursWeight):\n",
    "        self.interactionsReceived +=1\n",
    "        neighbour.addInteractionGiven()\n",
    "        weight = self.state*0.8 + politicalClimate + defectorUtility + neighboursWeight*neighbour.state #+ random.uniform(-0.2, 0.2)\n",
    "        \n",
    "        #self.state = weight\n",
    "        if(weight > 0):\n",
    "            self.state = states[0]\n",
    "        else:\n",
    "            self.state = states[1]\n",
    "    \n",
    "    def addInteractionGiven(self):\n",
    "        self.interactionsGiven +=1\n",
    "        "
   ]
  },
  {
   "cell_type": "markdown",
   "metadata": {},
   "source": [
    "The model class consists of the agents and includes a method to make these interact. "
   ]
  },
  {
   "cell_type": "code",
   "execution_count": 14,
   "metadata": {},
   "outputs": [],
   "source": [
    "from numpy.random import choice\n",
    "import random\n",
    "import matplotlib.pyplot as plt\n",
    "from statistics import stdev, mean\n",
    "import imageio\n",
    "\n",
    "class Model:\n",
    "    def __init__(self):\n",
    "        #Time dependent topology\n",
    "        self.graph = nx.Graph()\n",
    "        self.ratio = []\n",
    "        self.defectorDefectingNeighsList = []\n",
    "        self.cooperatorDefectingNeighsList = []\n",
    "        self.defectorDefectingNeighsSTDList = []\n",
    "        self.cooperatorDefectingNeighsSTDList =[]\n",
    "    \n",
    "    def interact(self):\n",
    "        nodeIndex = random.randint(0, len(self.graph) - 1)\n",
    "        node = self.graph.nodes[nodeIndex]['agent']\n",
    "        \n",
    "        neighbours =  list(self.graph.adj[nodeIndex].keys())\n",
    "        \n",
    "        chosenNeighbourIndex = neighbours[random.randint(0, len(neighbours)-1)]\n",
    "        chosenNeighbour = self.graph.nodes[chosenNeighbourIndex]['agent']\n",
    "        \n",
    "        weight = self.graph[nodeIndex][chosenNeighbourIndex]['weight']\n",
    "        \n",
    "        node.consider(chosenNeighbour, weight)\n",
    "        \n",
    "    def getAvgNumberOfDefectorNeigh(self):\n",
    "        defectorFriendsList = []\n",
    "        defectorNeighboursList = []\n",
    "        for node in self.graph:\n",
    "            agreeingNeighbours = 0\n",
    "            neighbours = list(self.graph.adj[node])\n",
    "            for neighbourIndex in neighbours:\n",
    "                if self.graph.nodes[neighbourIndex]['agent'].state == self.graph.nodes[node]['agent'].state:\n",
    "                    agreeingNeighbours += 1\n",
    "            if self.graph.nodes[node]['agent'].state== 1:\n",
    "                defectorNeighboursList.append(agreeingNeighbours/len(neighbours))\n",
    "            else:\n",
    "                defectorFriendsList.append(agreeingNeighbours/len(neighbours))\n",
    "        \n",
    "        defectoravg = mean(defectorFriendsList)\n",
    "        cooperatoravg =mean(defectorNeighboursList)\n",
    "        defectorSTD = stdev(defectorFriendsList)\n",
    "        cooperatorSTD =stdev(defectorNeighboursList)\n",
    "        return(defectoravg, cooperatoravg, defectorSTD, cooperatorSTD)\n",
    "                \n",
    "    \n",
    "    def countCooperatorRatio(self):\n",
    "        count = 0\n",
    "        for node in self.graph:\n",
    "            if self.graph.nodes[node]['agent'].state > 0:\n",
    "                count+=1\n",
    "        return count/len(self.graph)\n",
    " \n",
    "    def runSim(self, k, drawModel = False, countNeighbours = False, gifname=None):\n",
    "        \n",
    "        if(drawModel):\n",
    "            draw_model(self)\n",
    "            filenames = []\n",
    "        \n",
    "        if(countNeighbours):\n",
    "            (defectorDefectingNeighs,\n",
    "             cooperatorDefectingFriends,\n",
    "             defectorDefectingNeighsSTD,\n",
    "             cooperatorDefectingFriendsSTD) = self.getAvgNumberOfDefectorNeigh()\n",
    "            print(\"Defectors: avg: \", defectorDefectingNeighs, \" std: \", defectorDefectingNeighsSTD)\n",
    "            print(\"Cooperators: avg: \", cooperatorDefectingFriends, \" std: \", cooperatorDefectingFriendsSTD)\n",
    "    \n",
    "        for i in range(k):\n",
    "            self.interact()\n",
    "            self.ratio.append(self.countCooperatorRatio())\n",
    "            if(countNeighbours):\n",
    "                (defectorDefectingNeighs,\n",
    "                 cooperatorDefectingNeighs,\n",
    "                 defectorDefectingNeighsSTD,\n",
    "                 cooperatorDefectingNeighsSTD) = self.getAvgNumberOfDefectorNeigh()\n",
    "                self.defectorDefectingNeighsList.append(defectorDefectingNeighs)\n",
    "                self.cooperatorDefectingNeighsList.append(cooperatorDefectingNeighs)\n",
    "                self.defectorDefectingNeighsSTDList.append(defectorDefectingNeighsSTD)\n",
    "                self.cooperatorDefectingNeighsSTDList.append(cooperatorDefectingNeighsSTD)\n",
    "            if(drawModel and (i % 10 == 0)):\n",
    "                draw_model(self, True, i)\n",
    "                filenames.append(\"plot\" + str(i) +\".png\")\n",
    "                \n",
    "            #if(i % 10 == 0):\n",
    "                #a = random.randint(0,n)\n",
    "                #b = random.randint(0,n)\n",
    "                #while(a==b):\n",
    "                    #b = random.randint(0,n)\n",
    "                    #weight = random.uniform(0.1, 0.9)\n",
    "                    #model.graph.add_edge(a, b, weight = weight)\n",
    "        if(drawModel):\n",
    "            images = []\n",
    "            for filename in filenames:\n",
    "                images.append(imageio.imread(filename))\n",
    "            imageio.mimsave(\"network\" +gifname+ \".gif\", images, duration=0.04167)\n",
    "       \n",
    "    \n",
    "        if(countNeighbours):\n",
    "            drawDefectingNeighbours(self.defectorDefectingNeighsList,\n",
    "                                    self.cooperatorDefectingNeighsList,\n",
    "                                    self.defectorDefectingNeighsSTDList,\n",
    "                                    self.cooperatorDefectingNeighsSTDList,\n",
    "                                    gifname)\n",
    "        \n",
    "        return self.ratio"
   ]
  },
  {
   "cell_type": "code",
   "execution_count": 15,
   "metadata": {},
   "outputs": [],
   "source": [
    "import networkx as nx\n",
    "\n",
    "def makeGridModel(n):\n",
    "    model = Model()\n",
    "    #weight = 0.5\n",
    "    for i in range(n):\n",
    "        for j in range (n):\n",
    "            agent1 = Agent(states[random.randint(0,1)])\n",
    "            model.graph.add_node(i*n+j, agent=agent1)\n",
    "            if(i!=0):\n",
    "                weight = random.uniform(0.1, 0.9)\n",
    "                model.graph.add_edge(i*n+j, (i-1)*n+j, weight = weight)\n",
    "            if(j!=0):\n",
    "                weight = random.uniform(0.1, 0.9)\n",
    "                model.graph.add_edge(i*n+j, i*n+j-1, weight = weight)\n",
    "    \n",
    "    return model"
   ]
  },
  {
   "cell_type": "code",
   "execution_count": 16,
   "metadata": {},
   "outputs": [],
   "source": [
    "import matplotlib.pyplot as plt\n",
    "from IPython.display import Image\n",
    "\n",
    "\n",
    "def draw_model(model, save=False, filenumber = None):\n",
    "\n",
    "    color_map = []\n",
    "    for node in model.graph:\n",
    "        if model.graph.nodes[node]['agent'].state== 1:\n",
    "            color_map.append('green')\n",
    "        else: color_map.append('red')   \n",
    "    \n",
    "    plt.subplot(121)\n",
    "    nx.draw_spectral(model.graph, node_color = color_map,)\n",
    "    if(save):\n",
    "        plt.savefig(\"plot\" + str(filenumber) +\".png\", bbox_inches=\"tight\")\n"
   ]
  },
  {
   "cell_type": "code",
   "execution_count": 17,
   "metadata": {},
   "outputs": [],
   "source": [
    "import matplotlib.pyplot as plt  \n",
    "import numpy as np\n",
    "  \n",
    "def drawDefectingNeighbours(defectorDefectingNeighsList, cooperatorDefectingNeighsList, defectorDefectingNeighsSTDList, cooperatorDefectingNeighsSTDList, filname = None):\n",
    "    steps = range(0, len(defectorDefectingNeighsList))\n",
    "    defector = np.array( defectorDefectingNeighsList)\n",
    "    defectorSTD = np.array( defectorDefectingNeighsSTDList)\n",
    "    cooperator = np.array(cooperatorDefectingNeighsList)\n",
    "    cooperatorSTD = np.array( cooperatorDefectingNeighsSTDList)\n",
    "    \n",
    "    # You typically want your plot to be ~1.33x wider than tall.  \n",
    "    # Common sizes: (10, 7.5) and (12, 9)  \n",
    "    plt.figure(figsize=(12, 9))  \n",
    "    \n",
    "    f, axarr = plt.subplots(2, sharex=True)\n",
    "    axarr[0].set_title('Development of defector neighbours')\n",
    "  \n",
    "    # Remove the plot frame lines. They are unnecessary chartjunk.  \n",
    "    #axarr[0] = plt.subplot(111)  \n",
    "    #ax.spines[\"top\"].set_visible(False)  \n",
    "    #ax.spines[\"right\"].set_visible(False)  \n",
    "   \n",
    "    #ax.get_xaxis().tick_bottom()  \n",
    "    #ax.get_yaxis().tick_left()  \n",
    "   \n",
    "  \n",
    "    # Along the same vein, make sure your axis labels are large  \n",
    "    # enough to be easily read as well. Make them slightly larger  \n",
    "    # than your axis tick labels so they stand out.  \n",
    "    plt.ylabel(\"avg number of defector friends\", fontsize=12)  \n",
    "  \n",
    "    # Use matplotlib's fill_between() call to create error bars.    \n",
    "    axarr[0].fill_between(steps, cooperator - cooperatorSTD,  \n",
    "                 cooperator + cooperatorSTD,  color=\"#397c39\")  \n",
    "  \n",
    "    # Plot the means as a white line in between the error bars.   \n",
    "    # White stands out best against the dark blue.  \n",
    "    axarr[0].plot(steps, cooperatorDefectingNeighsList, color=\"white\", lw=2) \n",
    "   \n",
    "    axarr[1].fill_between(steps, defector - defectorSTD,  \n",
    "                 defector + defectorSTD,  color=\"#7c393a\")  \n",
    "  \n",
    "    # Plot the means as a white line in between the error bars.   \n",
    "    # White stands out best against the dark blue.  \n",
    "    axarr[1].plot(steps, defectorDefectingNeighsList, color=\"white\", lw=2) \n",
    "    \n",
    "    #plt.title(\"Development of defector neighbours\", fontsize=22)  \n",
    "    \n",
    "  \n",
    "    # Finally, save the figure as a PNG.  \n",
    "    # You can also save it as a PDF, JPEG, etc.  \n",
    "    # Just change the file extension in this call.  \n",
    "    # bbox_inches=\"tight\" removes all the extra whitespace on the edges of your plot.  \n",
    "    plt.savefig(\"avg\" + filname +\".png\", bbox_inches=\"tight\");"
   ]
  },
  {
   "cell_type": "code",
   "execution_count": 18,
   "metadata": {},
   "outputs": [],
   "source": [
    "def simulate(n, k, **kwargs):\n",
    "    model = makeGridModel(n)  \n",
    "    ratio = model.runSim(k, **kwargs)\n",
    "    return (model, ratio)"
   ]
  },
  {
   "cell_type": "code",
   "execution_count": 20,
   "metadata": {},
   "outputs": [],
   "source": [
    "def batch_simulate(n,k,s):\n",
    "    batch_proportions=[]\n",
    "    politicalClimate = 0.2\n",
    "    \n",
    "    for i in range(s):\n",
    "        (model, proportion) = simulate(n, k)\n",
    "        batch_proportions.append(proportion)\n",
    "    return batch_proportions "
   ]
  },
  {
   "cell_type": "markdown",
   "metadata": {},
   "source": [
    "## Radial Distribution function\n",
    "Calculate the number of agreeing nodes per number of jumps out from the node"
   ]
  },
  {
   "cell_type": "code",
   "execution_count": 124,
   "metadata": {},
   "outputs": [],
   "source": [
    "def radialDist(model, depth, isBefore):\n",
    "    DefectorValues = [[0 for i in range(depth)] for j in range(len(model.graph))]\n",
    "    CooperatorValues = [[0 for i in range(depth)] for j in range(len(model.graph))]\n",
    "    for nodeIdx in model.graph:\n",
    "        neighbours = list(model.graph.adj[nodeIdx])\n",
    "        isCooperator = model.graph.nodes[nodeIdx]['agent'].state > 0\n",
    "        for d in range(depth):\n",
    "            nextLevelNeighs = set([])\n",
    "            for n in neighbours:\n",
    "                nextLevelNeighs.update(list(model.graph.adj[n]))\n",
    "                if(model.graph.nodes[n]['agent'].state > 0 and isCooperator):\n",
    "                    CooperatorValues[nodeIdx][d] += 1\n",
    "                elif(model.graph.nodes[n]['agent'].state <= 0 and not isCooperator): \n",
    "                    DefectorValues[nodeIdx][d] += 1\n",
    "            CooperatorValues[nodeIdx][d] = CooperatorValues[nodeIdx][d]/len(neighbours)\n",
    "            DefectorValues[nodeIdx][d] = DefectorValues[nodeIdx][d]/len(neighbours)\n",
    "            for n in neighbours:\n",
    "                nextLevelNeighs.discard(n) #May be wrong, might have to build a sep list for \"parent level\"\n",
    "            neighbours = nextLevelNeighs\n",
    "            neighbours.discard(nodeIdx)\n",
    "     \n",
    "    cooperatorRatio = model.countCooperatorRatio()\n",
    "    \n",
    "    cooperatorRes = []\n",
    "    defectorRes = []\n",
    "    for col in range(depth):\n",
    "        coopSumRatios = 0\n",
    "        defectSumRatios = 0\n",
    "        for row in range(len(CooperatorValues)):\n",
    "            coopSumRatios += CooperatorValues[row][col]\n",
    "            defectSumRatios += DefectorValues[row][col]\n",
    "        cooperatorRes.append(np.array(coopSumRatios)/(len(model.graph)*cooperatorRatio*cooperatorRatio))\n",
    "        defectorRes.append(np.array(defectSumRatios)/(len(model.graph)*(1-cooperatorRatio)*(1-cooperatorRatio)))\n",
    "    print(cooperatorRes)\n",
    "    if isBefore:\n",
    "        intensity = 0.5\n",
    "    else:\n",
    "        intensity = 1\n",
    "    plt.plot(cooperatorRes, color=((23/255, 104/255, 37/255, intensity))) \n",
    "    plt.plot(defectorRes, color=((109/255, 10/255, 10/255, intensity))) "
   ]
  },
  {
   "cell_type": "code",
   "execution_count": 130,
   "metadata": {},
   "outputs": [
    {
     "name": "stdout",
     "output_type": "stream",
     "text": [
      "[0.9446366782006922, 0.9773356401384083, 0.9695896231795886, 0.9944630905161527, 0.9889499075054983, 1.0187831460183465, 0.9828431028002209, 1.0172730722537018, 0.9888587916619442, 1.0227614288381184, 0.9839863931389646, 1.0170936514124105]\n",
      "0.4722222222222222\n",
      "[1.1093791991400161, 0.9525089261719198, 1.0108177229918698, 0.9926477371386373, 1.0067850172722055, 1.0086699194579258, 1.004324600398924, 1.008067987943153, 1.0084544164485096, 1.0168017438068067, 1.0025154425451042, 1.0083675890774881]\n",
      "0.4236111111111111\n"
     ]
    },
    {
     "data": {
      "image/png": "[encoded data removed]",
      "text/plain": [
       "<Figure size 432x288 with 1 Axes>"
      ]
     },
     "metadata": {
      "needs_background": "light"
     },
     "output_type": "display_data"
    }
   ],
   "source": [
    "model = makeGridModel(12)\n",
    "radialDist(model, 12, True)\n",
    "print(model.countCooperatorRatio())\n",
    "model.runSim(2000)\n",
    "radialDist(model, 12, False)\n",
    "print(model.countCooperatorRatio())\n"
   ]
  },
  {
   "cell_type": "code",
   "execution_count": 64,
   "metadata": {},
   "outputs": [],
   "source": [
    "defectorUtility = -0.21 \n",
    " \n",
    "politicalClimate=0.2 #Being environment-positive \n",
    "\n",
    "    \n",
    "#(results) = batch_simulate(12, 1000,100)\n",
    "\n",
    "#for i in results:\n",
    "    #plt.plot(i)"
   ]
  },
  {
   "cell_type": "code",
   "execution_count": 114,
   "metadata": {
    "scrolled": true
   },
   "outputs": [
    {
     "name": "stderr",
     "output_type": "stream",
     "text": [
      "c:\\users\\sigrid\\appdata\\local\\programs\\python\\python36\\lib\\site-packages\\networkx\\drawing\\nx_pylab.py:611: MatplotlibDeprecationWarning: isinstance(..., numbers.Number)\n",
      "  if cb.is_numlike(alpha):\n",
      "c:\\users\\sigrid\\appdata\\local\\programs\\python\\python36\\lib\\site-packages\\matplotlib\\figure.py:98: MatplotlibDeprecationWarning: \n",
      "Adding an axes using the same arguments as a previous axes currently reuses the earlier instance.  In a future version, a new instance will always be created and returned.  Meanwhile, this warning can be suppressed, and the future behavior ensured, by passing a unique label to each axes instance.\n",
      "  \"Adding an axes using the same arguments as a previous axes \"\n"
     ]
    },
    {
     "name": "stdout",
     "output_type": "stream",
     "text": [
      "Defectors: avg:  0.5191666666666667  std:  0.23506624985355123\n",
      "Cooperators: avg:  0.5175  std:  0.28436235445650876\n"
     ]
    },
    {
     "data": {
      "image/png": "[encoded data removed]",
      "text/plain": [
       "<Figure size 432x288 with 1 Axes>"
      ]
     },
     "metadata": {},
     "output_type": "display_data"
    },
    {
     "data": {
      "text/plain": [
       "<Figure size 864x648 with 0 Axes>"
      ]
     },
     "metadata": {},
     "output_type": "display_data"
    },
    {
     "data": {
      "image/png": "[encoded data removed]",
      "text/plain": [
       "<Figure size 432x288 with 2 Axes>"
      ]
     },
     "metadata": {
      "needs_background": "light"
     },
     "output_type": "display_data"
    }
   ],
   "source": [
    "(model, ratio) = simulate(12, 1000, drawModel= False, countNeighbours= False)\n"
   ]
  },
  {
   "cell_type": "code",
   "execution_count": 123,
   "metadata": {},
   "outputs": [
    {
     "name": "stdout",
     "output_type": "stream",
     "text": [
      "{1, 2, 3}\n",
      "{2, 3}\n"
     ]
    }
   ],
   "source": []
  },
  {
   "cell_type": "code",
   "execution_count": 40,
   "metadata": {},
   "outputs": [
    {
     "name": "stdout",
     "output_type": "stream",
     "text": [
      "0.41\n",
      "Defectors: avg:  0.7372881355932204  std:  0.2728159348725995\n",
      "Cooperators: avg:  0.3882113821138211  std:  0.312144106286553\n"
     ]
    },
    {
     "data": {
      "image/png": "[encoded data removed]",
      "text/plain": [
       "<Figure size 432x288 with 1 Axes>"
      ]
     },
     "metadata": {
      "needs_background": "light"
     },
     "output_type": "display_data"
    }
   ],
   "source": [
    "plt.plot(ratio)\n",
    "print(model.countCooperatorRatio())\n",
    "(defectorDefectingNeighs, cooperatorDefectingFriends, defectorDefectingNeighsSTD, cooperatorDefectingFriendsSTD)=model.getAvgNumberOfDefectorNeigh()\n",
    "print(\"Defectors: avg: \", defectorDefectingNeighs, \" std: \", defectorDefectingNeighsSTD)\n",
    "print(\"Cooperators: avg: \", cooperatorDefectingFriends, \" std: \", cooperatorDefectingFriendsSTD)\n",
    "        "
   ]
  },
  {
   "cell_type": "code",
   "execution_count": 28,
   "metadata": {},
   "outputs": [
    {
     "name": "stdout",
     "output_type": "stream",
     "text": [
      "[1, 12]\n"
     ]
    },
    {
     "ename": "ZeroDivisionError",
     "evalue": "division by zero",
     "output_type": "error",
     "traceback": [
      "\u001b[1;31m---------------------------------------------------------------------------\u001b[0m",
      "\u001b[1;31mZeroDivisionError\u001b[0m                         Traceback (most recent call last)",
      "\u001b[1;32m<ipython-input-28-6de09e9af0e3>\u001b[0m in \u001b[0;36m<module>\u001b[1;34m\u001b[0m\n\u001b[0;32m      1\u001b[0m \u001b[0mmodel\u001b[0m \u001b[1;33m=\u001b[0m \u001b[0mmakeGridModel\u001b[0m\u001b[1;33m(\u001b[0m\u001b[1;36m12\u001b[0m\u001b[1;33m)\u001b[0m\u001b[1;33m\u001b[0m\u001b[0m\n\u001b[1;32m----> 2\u001b[1;33m \u001b[0mradialDist\u001b[0m\u001b[1;33m(\u001b[0m\u001b[0mmodel\u001b[0m\u001b[1;33m)\u001b[0m\u001b[1;33m\u001b[0m\u001b[0m\n\u001b[0m",
      "\u001b[1;32m<ipython-input-27-258673707b5b>\u001b[0m in \u001b[0;36mradialDist\u001b[1;34m(model)\u001b[0m\n\u001b[0;32m     12\u001b[0m                 \u001b[1;32mif\u001b[0m\u001b[1;33m(\u001b[0m\u001b[0mmodel\u001b[0m\u001b[1;33m.\u001b[0m\u001b[0mgraph\u001b[0m\u001b[1;33m.\u001b[0m\u001b[0mnodes\u001b[0m\u001b[1;33m[\u001b[0m\u001b[0mn\u001b[0m\u001b[1;33m]\u001b[0m\u001b[1;33m[\u001b[0m\u001b[1;34m'agent'\u001b[0m\u001b[1;33m]\u001b[0m\u001b[1;33m.\u001b[0m\u001b[0mstate\u001b[0m \u001b[1;33m>\u001b[0m \u001b[1;36m0\u001b[0m\u001b[1;33m)\u001b[0m\u001b[1;33m:\u001b[0m\u001b[1;33m\u001b[0m\u001b[0m\n\u001b[0;32m     13\u001b[0m                     \u001b[0mCooperatorValues\u001b[0m\u001b[1;33m[\u001b[0m\u001b[0mnodeIdx\u001b[0m\u001b[1;33m]\u001b[0m\u001b[1;33m[\u001b[0m\u001b[0mdepth\u001b[0m\u001b[1;33m]\u001b[0m \u001b[1;33m+=\u001b[0m \u001b[1;36m1\u001b[0m\u001b[1;33m\u001b[0m\u001b[0m\n\u001b[1;32m---> 14\u001b[1;33m             \u001b[0mCooperatorValues\u001b[0m\u001b[1;33m[\u001b[0m\u001b[0mnodeIdx\u001b[0m\u001b[1;33m]\u001b[0m\u001b[1;33m[\u001b[0m\u001b[0mdepth\u001b[0m\u001b[1;33m]\u001b[0m \u001b[1;33m=\u001b[0m \u001b[0mCooperatorValues\u001b[0m\u001b[1;33m[\u001b[0m\u001b[0mnodeIdx\u001b[0m\u001b[1;33m]\u001b[0m\u001b[1;33m[\u001b[0m\u001b[0mdepth\u001b[0m\u001b[1;33m]\u001b[0m\u001b[1;33m/\u001b[0m\u001b[0mlen\u001b[0m\u001b[1;33m(\u001b[0m\u001b[0mneighbours\u001b[0m\u001b[1;33m)\u001b[0m\u001b[1;33m\u001b[0m\u001b[0m\n\u001b[0m\u001b[0;32m     15\u001b[0m             \u001b[0mneighbours\u001b[0m \u001b[1;33m=\u001b[0m \u001b[0mnextLevelNeighs\u001b[0m\u001b[1;33m\u001b[0m\u001b[0m\n\u001b[0;32m     16\u001b[0m             \u001b[0mnextLevelNeighs\u001b[0m\u001b[1;33m.\u001b[0m\u001b[0mclear\u001b[0m\u001b[1;33m(\u001b[0m\u001b[1;33m)\u001b[0m\u001b[1;33m\u001b[0m\u001b[0m\n",
      "\u001b[1;31mZeroDivisionError\u001b[0m: division by zero"
     ]
    }
   ],
   "source": []
  },
  {
   "cell_type": "code",
   "execution_count": null,
   "metadata": {},
   "outputs": [],
   "source": []
  }
 ],
 "metadata": {
  "kernelspec": {
   "display_name": "Python 3",
   "language": "python",
   "name": "python3"
  },
  "language_info": {
   "codemirror_mode": {
    "name": "ipython",
    "version": 3
   },
   "file_extension": ".py",
   "mimetype": "text/x-python",
   "name": "python",
   "nbconvert_exporter": "python",
   "pygments_lexer": "ipython3",
   "version": "3.6.4"
  }
 },
 "nbformat": 4,
 "nbformat_minor": 2
}
