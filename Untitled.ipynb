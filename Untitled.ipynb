{
 "cells": [
  {
   "cell_type": "code",
   "execution_count": 8,
   "metadata": {},
   "outputs": [
    {
     "ename": "MemoryError",
     "evalue": "",
     "output_type": "error",
     "traceback": [
      "\u001b[1;31m---------------------------------------------------------------------------\u001b[0m",
      "\u001b[1;31mRemoteTraceback\u001b[0m                           Traceback (most recent call last)",
      "\u001b[1;31mRemoteTraceback\u001b[0m: \n\"\"\"\nTraceback (most recent call last):\n  File \"c:\\users\\sigrid\\appdata\\local\\programs\\python\\python36\\lib\\multiprocessing\\pool.py\", line 119, in worker\n    result = (True, func(*args, **kwds))\n  File \"c:\\users\\sigrid\\appdata\\local\\programs\\python\\python36\\lib\\multiprocessing\\pool.py\", line 47, in starmapstar\n    return list(itertools.starmap(args[0], args[1]))\n  File \"C:\\Users\\Sigrid\\Documents\\dev\\prosjektoppgave\\models.py\", line 37, in simulate\n  File \"C:\\Users\\Sigrid\\Documents\\dev\\prosjektoppgave\\models.py\", line 238, in __init__\n    X = get_truncated_normal(0.5, 0.15, 0, 1)\n  File \"C:\\Users\\Sigrid\\Documents\\dev\\prosjektoppgave\\models.py\", line 34, in get_truncated_normal\n    (low - mean) / sd, (upp - mean) / sd, loc=mean, scale=sd)\n  File \"c:\\users\\sigrid\\appdata\\local\\programs\\python\\python36\\lib\\site-packages\\scipy\\stats\\_distn_infrastructure.py\", line 772, in __call__\n    return self.freeze(*args, **kwds)\n  File \"c:\\users\\sigrid\\appdata\\local\\programs\\python\\python36\\lib\\site-packages\\scipy\\stats\\_distn_infrastructure.py\", line 769, in freeze\n    return rv_frozen(self, *args, **kwds)\n  File \"c:\\users\\sigrid\\appdata\\local\\programs\\python\\python36\\lib\\site-packages\\scipy\\stats\\_distn_infrastructure.py\", line 434, in __init__\n    self.dist = dist.__class__(**dist._updated_ctor_param())\n  File \"c:\\users\\sigrid\\appdata\\local\\programs\\python\\python36\\lib\\site-packages\\scipy\\stats\\_distn_infrastructure.py\", line 1516, in __init__\n    locscale_out='loc, scale')\n  File \"c:\\users\\sigrid\\appdata\\local\\programs\\python\\python36\\lib\\site-packages\\scipy\\stats\\_distn_infrastructure.py\", line 694, in _construct_argparser\n    exec_(parse_arg_template % dct, ns)\nMemoryError\n\"\"\"",
      "\nThe above exception was the direct cause of the following exception:\n",
      "\u001b[1;31mMemoryError\u001b[0m                               Traceback (most recent call last)",
      "\u001b[1;32m<ipython-input-8-a83438de3d1f>\u001b[0m in \u001b[0;36m<module>\u001b[1;34m\u001b[0m\n\u001b[0;32m     52\u001b[0m     \u001b[1;31m#    modelList.append(models.ScaleFreeModel(144, 2))\u001b[0m\u001b[1;33m\u001b[0m\u001b[1;33m\u001b[0m\u001b[0m\n\u001b[0;32m     53\u001b[0m     \u001b[1;31m#endMake=time.time()\u001b[0m\u001b[1;33m\u001b[0m\u001b[1;33m\u001b[0m\u001b[0m\n\u001b[1;32m---> 54\u001b[1;33m     \u001b[0moutput\u001b[0m \u001b[1;33m=\u001b[0m \u001b[0mp\u001b[0m\u001b[1;33m.\u001b[0m\u001b[0mstarmap\u001b[0m\u001b[1;33m(\u001b[0m\u001b[0mmodels\u001b[0m\u001b[1;33m.\u001b[0m\u001b[0msimulate\u001b[0m\u001b[1;33m,\u001b[0m \u001b[0mzip\u001b[0m\u001b[1;33m(\u001b[0m\u001b[0mrange\u001b[0m\u001b[1;33m(\u001b[0m\u001b[0ms\u001b[0m\u001b[1;33m)\u001b[0m\u001b[1;33m,\u001b[0m \u001b[0mrepeat\u001b[0m\u001b[1;33m(\u001b[0m\u001b[1;36m3000\u001b[0m\u001b[1;33m)\u001b[0m\u001b[1;33m)\u001b[0m\u001b[1;33m)\u001b[0m\u001b[1;33m\u001b[0m\u001b[0m\n\u001b[0m\u001b[0;32m     55\u001b[0m     \u001b[1;31m#output = list(map(models.simulate, range(s), repeat(3000)))\u001b[0m\u001b[1;33m\u001b[0m\u001b[1;33m\u001b[0m\u001b[0m\n\u001b[0;32m     56\u001b[0m \u001b[1;33m\u001b[0m\u001b[0m\n",
      "\u001b[1;32mc:\\users\\sigrid\\appdata\\local\\programs\\python\\python36\\lib\\multiprocessing\\pool.py\u001b[0m in \u001b[0;36mstarmap\u001b[1;34m(self, func, iterable, chunksize)\u001b[0m\n\u001b[0;32m    272\u001b[0m         \u001b[0;31m`\u001b[0m\u001b[0mfunc\u001b[0m\u001b[0;31m`\u001b[0m \u001b[1;32mand\u001b[0m \u001b[1;33m(\u001b[0m\u001b[0ma\u001b[0m\u001b[1;33m,\u001b[0m \u001b[0mb\u001b[0m\u001b[1;33m)\u001b[0m \u001b[0mbecomes\u001b[0m \u001b[0mfunc\u001b[0m\u001b[1;33m(\u001b[0m\u001b[0ma\u001b[0m\u001b[1;33m,\u001b[0m \u001b[0mb\u001b[0m\u001b[1;33m)\u001b[0m\u001b[1;33m.\u001b[0m\u001b[1;33m\u001b[0m\u001b[0m\n\u001b[0;32m    273\u001b[0m         '''\n\u001b[1;32m--> 274\u001b[1;33m         \u001b[1;32mreturn\u001b[0m \u001b[0mself\u001b[0m\u001b[1;33m.\u001b[0m\u001b[0m_map_async\u001b[0m\u001b[1;33m(\u001b[0m\u001b[0mfunc\u001b[0m\u001b[1;33m,\u001b[0m \u001b[0miterable\u001b[0m\u001b[1;33m,\u001b[0m \u001b[0mstarmapstar\u001b[0m\u001b[1;33m,\u001b[0m \u001b[0mchunksize\u001b[0m\u001b[1;33m)\u001b[0m\u001b[1;33m.\u001b[0m\u001b[0mget\u001b[0m\u001b[1;33m(\u001b[0m\u001b[1;33m)\u001b[0m\u001b[1;33m\u001b[0m\u001b[0m\n\u001b[0m\u001b[0;32m    275\u001b[0m \u001b[1;33m\u001b[0m\u001b[0m\n\u001b[0;32m    276\u001b[0m     def starmap_async(self, func, iterable, chunksize=None, callback=None,\n",
      "\u001b[1;32mc:\\users\\sigrid\\appdata\\local\\programs\\python\\python36\\lib\\multiprocessing\\pool.py\u001b[0m in \u001b[0;36mget\u001b[1;34m(self, timeout)\u001b[0m\n\u001b[0;32m    642\u001b[0m             \u001b[1;32mreturn\u001b[0m \u001b[0mself\u001b[0m\u001b[1;33m.\u001b[0m\u001b[0m_value\u001b[0m\u001b[1;33m\u001b[0m\u001b[0m\n\u001b[0;32m    643\u001b[0m         \u001b[1;32melse\u001b[0m\u001b[1;33m:\u001b[0m\u001b[1;33m\u001b[0m\u001b[0m\n\u001b[1;32m--> 644\u001b[1;33m             \u001b[1;32mraise\u001b[0m \u001b[0mself\u001b[0m\u001b[1;33m.\u001b[0m\u001b[0m_value\u001b[0m\u001b[1;33m\u001b[0m\u001b[0m\n\u001b[0m\u001b[0;32m    645\u001b[0m \u001b[1;33m\u001b[0m\u001b[0m\n\u001b[0;32m    646\u001b[0m     \u001b[1;32mdef\u001b[0m \u001b[0m_set\u001b[0m\u001b[1;33m(\u001b[0m\u001b[0mself\u001b[0m\u001b[1;33m,\u001b[0m \u001b[0mi\u001b[0m\u001b[1;33m,\u001b[0m \u001b[0mobj\u001b[0m\u001b[1;33m)\u001b[0m\u001b[1;33m:\u001b[0m\u001b[1;33m\u001b[0m\u001b[0m\n",
      "\u001b[1;31mMemoryError\u001b[0m: "
     ]
    }
   ],
   "source": [
    "from multiprocessing import Pool\n",
    "import models \n",
    "import numpy as np\n",
    "from operator import itemgetter\n",
    "import heapq\n",
    "import random\n",
    "import matplotlib.pyplot as plt\n",
    "from networkx.drawing.nx_agraph import graphviz_layout, to_agraph\n",
    "from copy import deepcopy\n",
    "import seaborn as sns\n",
    "#import pygraphviz as pgv\n",
    "from statistics import stdev, mean\n",
    "import imageio\n",
    "import networkx as nx\n",
    "from scipy.stats import truncnorm\n",
    "from itertools import repeat\n",
    "import time\n",
    "import multiprocessing\n",
    "import os\n",
    "from threading import Thread\n",
    "#from model import Agent\n",
    "\n",
    "#Constants and Variables\n",
    "\n",
    "states = [1, -1] #1 being cooperating, -1 being defecting\n",
    "\n",
    "defectorUtility = -0.20 \n",
    " \n",
    "politicalClimate=0.2 \n",
    "\n",
    "selfWeight = 0.8\n",
    "\n",
    "neighboursWeight = 0.5\n",
    "\n",
    "s = 100\n",
    "\n",
    "#Helper\n",
    "def decision(probability):\n",
    "    return random.random() < probability\n",
    "\n",
    "def get_truncated_normal(mean=0, sd=1, low=0, upp=10):\n",
    "    return truncnorm(\n",
    "        (low - mean) / sd, (upp - mean) / sd, loc=mean, scale=sd)\n",
    "\n",
    "if __name__ ==  '__main__': \n",
    "    num_processors = 50\n",
    "    modelList=[]\n",
    "    start = time.time()\n",
    "    p=Pool(processes = num_processors)\n",
    "    #startMake = time.time()\n",
    "    #for i in range(s):\n",
    "    #    modelList.append(models.ScaleFreeModel(144, 2))  \n",
    "    #endMake=time.time()\n",
    "    output = p.starmap(models.simulate, zip(range(s), repeat(3000)))\n",
    "    #output = list(map(models.simulate, range(s), repeat(3000)))\n",
    "\n",
    "    end = time.time()\n",
    "    \n",
    "    #print(f'Time to make models: {endMake - startMake:.2f}s\\n')\n",
    "    print(f'Time to complete: {end - start:.2f}s\\n')\n",
    "    plt.xlabel(\"timesteps\")\n",
    "    plt.ylabel(\"fraction of cooperators\")\n",
    "    plt.ylim((0, 1))\n",
    "    for i in range(s):\n",
    "        plt.plot(output[i])\n",
    "    "
   ]
  },
  {
   "cell_type": "code",
   "execution_count": null,
   "metadata": {},
   "outputs": [],
   "source": [
    "import matplotlib.pyplot as plt\n",
    "from IPython.display import Image\n",
    "\n",
    "\n",
    "def draw_model(model, save=False, filenumber = None):\n",
    "    \n",
    "    plt.figure(figsize=(16,16))\n",
    "\n",
    "    color_map = []\n",
    "    intensities = []\n",
    "    #pos = []\n",
    "    for node in model.graph:\n",
    "        #pos.append(model.graph.nodes[node]['pos'])\n",
    "        if model.graph.nodes[node]['agent'].state > 0:\n",
    "            color_map.append((3/255,164/255,94/255, model.graph.nodes[node]['agent'].state))\n",
    "            intensities.append(model.graph.nodes[node]['agent'].state)\n",
    "            #color_map.append('#03a45e')\n",
    "        #else: color_map.append('#f7796d')\n",
    "        else: \n",
    "            color_map.append((247/255,121/255,109/255, -1*model.graph.nodes[node]['agent'].state ))\n",
    "            intensities.append(model.graph.nodes[node]['agent'].state)\n",
    "    degrees = nx.degree(model.graph)\n",
    "    plt.subplot(121)\n",
    "    nx.draw(model.graph, model.pos, node_size=[d[1] * 20 for d in degrees], node_color =intensities, cmap = plt.cm.RdYlGn )\n",
    "    if(save):\n",
    "        plt.savefig(\"plot\" + str(filenumber) +\".png\", bbox_inches=\"tight\")\n",
    "        plt.clf()\n"
   ]
  },
  {
   "cell_type": "code",
   "execution_count": null,
   "metadata": {},
   "outputs": [],
   "source": [
    "draw_model(model)"
   ]
  },
  {
   "cell_type": "code",
   "execution_count": null,
   "metadata": {},
   "outputs": [],
   "source": []
  }
 ],
 "metadata": {
  "kernelspec": {
   "display_name": "Python 3",
   "language": "python",
   "name": "python3"
  },
  "language_info": {
   "codemirror_mode": {
    "name": "ipython",
    "version": 3
   },
   "file_extension": ".py",
   "mimetype": "text/x-python",
   "name": "python",
   "nbconvert_exporter": "python",
   "pygments_lexer": "ipython3",
   "version": "3.6.4"
  }
 },
 "nbformat": 4,
 "nbformat_minor": 2
}
