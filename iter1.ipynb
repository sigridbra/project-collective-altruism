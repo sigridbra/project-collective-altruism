{
 "cells": [
  {
   "cell_type": "code",
   "execution_count": 8,
   "metadata": {},
   "outputs": [],
   "source": [
    "states = [1, 0] #1 being cooperating, 0 being defecting\n",
    "\n",
    "defectorUtility = -0.5 \n",
    " \n",
    "politicalClimate=0.2 #Being environment-positive -- Adding some random number being events in life lik emovies etc.\n",
    "\n",
    "\n",
    "class Agent:\n",
    "    def __init__(self, state):\n",
    "        self.state = state\n",
    "    \n",
    "    def consider(self, neighbour):\n",
    "        \n",
    "        neighboursWeight = 0.4 # or adding randomness here\n",
    "        \n",
    "        weight = self.state + politicalClimate + defectorUtility + neighboursWeight*neighbour.state\n",
    "        \n",
    "        if(weight > 0):\n",
    "            self.state = 1\n",
    "        else:\n",
    "            self.state = 0"
   ]
  },
  {
   "cell_type": "code",
   "execution_count": 9,
   "metadata": {},
   "outputs": [],
   "source": [
    "from numpy.random import choice\n",
    "import random\n",
    "\n",
    "class Model:\n",
    "    def __init__(self):\n",
    "        self.agents = [] #Add topology - and add some random people far in the network from time to time, changing the network\n",
    "        #Time dependent topology\n",
    "\n",
    "    def addAgent(self, agent):\n",
    "        self.agents.append(agent)\n",
    "    \n",
    "    def interact(self):\n",
    "        i = random.randint(0, len(self.agents) - 1) # phyton counts from 0, so pop(8) is an error\n",
    "        j = random.randint(0, len(self.agents) - 1)\n",
    "    \n",
    "        while i == j:\n",
    "            j = random.randint(0, len(self.agents) - 1) # make sure the same agent is not selected twice\n",
    "        \n",
    "        self.agents[i].consider(self.agents[j])\n",
    "        \n",
    "    def printModel(self):\n",
    "        count = 0\n",
    "        for agent in self.agents:\n",
    "            count += agent.state\n",
    "        print(count)\n",
    "        "
   ]
  },
  {
   "cell_type": "code",
   "execution_count": 10,
   "metadata": {},
   "outputs": [],
   "source": [
    "def makeModel(n):\n",
    "    model = Model()\n",
    "    for i in range(n):\n",
    "        model.addAgent(Agent(random.randint(0,1)))\n",
    "    return model"
   ]
  },
  {
   "cell_type": "code",
   "execution_count": 11,
   "metadata": {},
   "outputs": [],
   "source": [
    "def simulate(n, k):\n",
    "    model = makeModel(n)\n",
    "    model.printModel()\n",
    "    for i in range(k):\n",
    "        model.interact()\n",
    "    model.printModel()"
   ]
  },
  {
   "cell_type": "code",
   "execution_count": 12,
   "metadata": {},
   "outputs": [
    {
     "name": "stdout",
     "output_type": "stream",
     "text": [
      "44\n",
      "100\n"
     ]
    }
   ],
   "source": [
    "simulate(100, 1000)"
   ]
  },
  {
   "cell_type": "code",
   "execution_count": null,
   "metadata": {},
   "outputs": [],
   "source": []
  },
  {
   "cell_type": "code",
   "execution_count": null,
   "metadata": {},
   "outputs": [],
   "source": []
  }
 ],
 "metadata": {
  "kernelspec": {
   "display_name": "Python 3",
   "language": "python",
   "name": "python3"
  },
  "language_info": {
   "codemirror_mode": {
    "name": "ipython",
    "version": 3
   },
   "file_extension": ".py",
   "mimetype": "text/x-python",
   "name": "python",
   "nbconvert_exporter": "python",
   "pygments_lexer": "ipython3",
   "version": "3.6.4"
  }
 },
 "nbformat": 4,
 "nbformat_minor": 2
}
